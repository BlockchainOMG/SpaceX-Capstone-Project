{
  "cells": [
    {
      "cell_type": "markdown",
      "metadata": {},
      "source": [
        "# SpaceX Falcon 9 First Stage Landing Prediction\n",
        "## Part 1: Data Collection with SpaceX API\n",
        "\n",
        "### Objectives\n",
        "- Make GET requests to the SpaceX REST API\n",
        "- Extract launch data\n",
        "- Create a dataframe from the API response\n",
        "- Filter and process the data for analysis\n"
      ]
    },
    {
      "cell_type": "code",
      "execution_count": null,
      "metadata": {},
      "outputs": [],
      "source": [
        "# Import required libraries\n",
        "import requests\n",
        "import pandas as pd\n",
        "import numpy as np\n",
        "import datetime\n",
        "import json\n"
      ]
    }
  ],
  "metadata": {
    "language_info": {
      "name": "python"
    }
  },
  "nbformat": 4,
  "nbformat_minor": 2
}
